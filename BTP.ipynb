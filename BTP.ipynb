{
  "cells": [
    {
      "cell_type": "code",
      "execution_count": 34,
      "metadata": {
        "id": "8MA5mNHgdUTT"
      },
      "outputs": [],
      "source": [
        "%matplotlib inline"
      ]
    },
    {
      "cell_type": "code",
      "execution_count": 35,
      "metadata": {
        "id": "-TioQ-kS1o8w"
      },
      "outputs": [],
      "source": [
        "import math as m\n",
        "import numpy as np\n",
        "import matplotlib.pyplot as plt\n",
        "import sympy as sp\n",
        "import os \n",
        "from mpl_toolkits.mplot3d import Axes3D\n",
        "from sympy.matrices import Matrix\n",
        "from sympy import *\n",
        "from sympy import Array\n",
        "from IPython.display import clear_output"
      ]
    },
    {
      "cell_type": "code",
      "execution_count": 36,
      "metadata": {
        "id": "aHZbieneqbwd"
      },
      "outputs": [],
      "source": [
        "# os.chdir(\"/content\")"
      ]
    },
    {
      "cell_type": "code",
      "execution_count": 37,
      "metadata": {
        "id": "rpXHBU88qlZK"
      },
      "outputs": [],
      "source": [
        "# H = np.load(\"H.npy\",allow_pickle=True)\n",
        "# M = np.load(\"M.npy\",allow_pickle=True)\n",
        "# C = np.load(\"C.npy\",allow_pickle=True)"
      ]
    },
    {
      "cell_type": "code",
      "execution_count": 38,
      "metadata": {
        "id": "CUEj3AAUcQQD"
      },
      "outputs": [],
      "source": [
        "# print(H.shape)"
      ]
    },
    {
      "cell_type": "code",
      "execution_count": 39,
      "metadata": {
        "id": "2zqAdz2Q3NY5"
      },
      "outputs": [],
      "source": [
        "temp = sp.symbols('l(1:5)')\n",
        "a=[0,temp[0],temp[1],temp[2],temp[3]]\n",
        "d=[0,0,0,0,0]\n",
        "alp = [0,0,0,0,0]\n",
        "# theta=[0,np.pi/2,-np.pi/2,0,0,0]\n",
        "theta = sp.symbols('theta(1:6)')\n",
        "I = sp.Identity(4)"
      ]
    },
    {
      "cell_type": "code",
      "execution_count": 40,
      "metadata": {
        "id": "5Ru-3K6n7DQh"
      },
      "outputs": [],
      "source": [
        "T1 = []\n",
        "R1 = []\n",
        "R2 = [] # check\n",
        "O1 = [Matrix([[0],[0],[0]])]\n",
        "O2 = []\n",
        "for i in range(5):\n",
        "  T = Matrix([[sp.cos(theta[i]),-sp.sin(theta[i]),0,a[i]],[sp.sin(theta[i])*sp.cos(alp[i]),sp.cos(theta[i])*sp.cos(alp[i]),-sp.sin(alp[i]),-d[i]*sp.sin(alp[i])] , [sp.sin(theta[i])*sp.sin(alp[i]),sp.cos(theta[i])*sp.sin(alp[i]),sp.cos(alp[i]),d[i]*sp.cos(alp[i])],[0,0,0,1]])\n",
        "  T_i = I*T\n",
        "  T = T_i\n",
        "  R = (T_i[:3,:3])\n",
        "  O = (T_i[0:3,3:4])\n",
        "  Ra = (R[:,2])\n",
        "  I = T_i\n",
        "  T1.append(T)\n",
        "  R1.append(R)\n",
        "  R2.append(Ra) # check\n",
        "  O1.append(O)\n",
        "  O2.append(O)\n",
        "O1 = np.array(O1)\n",
        "O2 = Matrix(O2)"
      ]
    },
    {
      "cell_type": "code",
      "execution_count": 41,
      "metadata": {
        "id": "OeWpOxvfiW1G"
      },
      "outputs": [],
      "source": [
        "def helper(X):\n",
        "  C = []\n",
        "  for i in X:\n",
        "    C.append([i])\n",
        "    X = Matrix(C)\n",
        "  return X"
      ]
    },
    {
      "cell_type": "code",
      "execution_count": 42,
      "metadata": {
        "id": "LxZyq-nq8oNi"
      },
      "outputs": [],
      "source": [
        "m = sp.symbols('m(1:6)')\n",
        "g = sp.symbols('g')\n",
        "G = Matrix([[0],[-g],[0]])\n",
        "l = sp.symbols('l(1:6)')\n",
        "tau = sp.symbols('tau(1:6)')\n",
        "theta_dot = sp.symbols('theta_dot(1:6)')\n",
        "theta_ddot = sp.symbols('theta_ddot(1:6)')\n",
        "a = sp.symbols('0')\n",
        "omega = Matrix([[a],[a],[a]])\n",
        "dot_omega =  Matrix([[a],[a],[a]])\n",
        "dot_O = Matrix([[a],[a],[a]])\n",
        "ddot_O =  Matrix([[a],[a],[a]])\n",
        "b_i_i = Matrix([[l[0]/2,l[1]/2,l[2]/2,l[3]/2,l[4]/2],[0,0,0,0,0],[0,0,0,0,0]])\n",
        "a_i_i = Matrix([[l[0],l[1],l[2],l[3],l[4]],[0,0,0,0,0],[0,0,0,0,0]])"
      ]
    },
    {
      "cell_type": "code",
      "execution_count": 43,
      "metadata": {
        "colab": {
          "base_uri": "https://localhost:8080/"
        },
        "id": "KNd57fDdYr3s",
        "outputId": "47418d7d-ede7-42f5-a6f1-d2a89d83f2d2"
      },
      "outputs": [
        {
          "output_type": "stream",
          "name": "stdout",
          "text": [
            "<class 'sympy.matrices.immutable.ImmutableDenseMatrix'>\n"
          ]
        }
      ],
      "source": [
        "# Z_n_0 = (R[:3,2:])\n",
        "# A = R1[4][:3,2:]\n",
        "# print(A)\n",
        "Z_n_0 = R2\n",
        "Ixx = sp.symbols('Ixx_(1:6)')\n",
        "Iyy = sp.symbols('Iyy_(1:6)')\n",
        "Izz = sp.symbols('Izz_(1:6)')\n",
        "\n",
        "I1_1 = Matrix([[Ixx[0],0,0],[0,Iyy[0],0],[0,0,Izz[0]]])\n",
        "I1_2 = Matrix([[Ixx[1],0,0],[0,Iyy[1],0],[0,0,Izz[1]]])\n",
        "I1_3 = Matrix([[Ixx[2],0,0],[0,Iyy[2],0],[0,0,Izz[2]]])\n",
        "I1_4 = Matrix([[Ixx[3],0,0],[0,Iyy[3],0],[0,0,Izz[3]]])\n",
        "I1_5 = Matrix([[Ixx[4],0,0],[0,Iyy[4],0],[0,0,Izz[4]]])\n",
        "\n",
        "\n",
        "I1_0 = R1[0]*I1_1*R1[0].transpose()\n",
        "I2_0 = R1[1]*I1_2*R1[1].transpose()\n",
        "I3_0 = R1[2]*I1_3*R1[2].transpose()\n",
        "I4_0 = R1[3]*I1_4*R1[3].transpose()\n",
        "I5_0 = R1[4]*I1_5*R1[4].transpose()\n",
        "print(type(I1_0))\n",
        "\n",
        "I1_0 = I1_0.subs(Ixx[0],0).subs(Iyy[0],(m[0]*l[0]**2)/12).subs(Izz[0],(m[0]*l[0]**2)/12)\n",
        "I2_0 = I2_0.subs(Ixx[1],0).subs(Iyy[1],(m[1]*l[1]**2)/12).subs(Izz[1],(m[1]*l[1]**2)/12)\n",
        "I3_0 = I3_0.subs(Ixx[2],0).subs(Iyy[2],(m[2]*l[2]**2)/12).subs(Izz[2],(m[2]*l[2]**2)/12)\n",
        "I4_0 = I4_0.subs(Ixx[3],0).subs(Iyy[3],(m[2]*l[3]**2)/12).subs(Izz[3],(m[2]*l[3]**2)/12)\n",
        "I5_0 = I5_0.subs(Ixx[4],0).subs(Iyy[4],(m[2]*l[4]**2)/12).subs(Izz[4],(m[2]*l[4]**2)/12)\n",
        "\n",
        "I_i_0 = [I1_0, I2_0, I3_0, I4_0, I5_0]"
      ]
    },
    {
      "cell_type": "code",
      "execution_count": 44,
      "metadata": {
        "id": "AVGVG5qPZgz7"
      },
      "outputs": [],
      "source": [
        "# Forward Recursion\n",
        "j = 0\n",
        "x = omega[:,0] #[:,1] particular column\n",
        "y = dot_O[:,0]\n",
        "b = dot_omega[:,0]\n",
        "c = ddot_O\n",
        "f_i_0 = []\n",
        "n_i_0 = []\n",
        "r_i_0 = []\n",
        "z1 = []\n",
        "for i in range(5):\n",
        "  # omega[:,i+1] = omega[:,i] + (Z_n_0[i]*theta_dot[i])\n",
        "  x = x + (Z_n_0[i]*theta_dot[i])   # x = omega[:,i]\n",
        "  y = y + np.cross(x,(O1[i+1]- O1[i]),axis=0)\n",
        "  z = np.dot(R1[i],b_i_i[:,i])  # Z = b_i_0[:,i]\n",
        "  z1.append(z)\n",
        "  a1 = y + np.cross(x,z,axis=0)  # a = dot_c[:,i]\n",
        "  b = b + np.cross(x,(Z_n_0[i]*theta_dot[i]),axis=0) + np.dot(Z_n_0[i],theta_ddot[i])\n",
        "  \n",
        "  c = c + np.cross(b,(O1[i+1]- O1[i]),axis=0) + np.cross(x,np.cross(x,(O1[i+1]-O1[i]),axis=0),axis=0)\n",
        "  d = c + np.cross(b,z,axis=0) + np.cross(x,np.cross(x,z,axis=0),axis=0) # d = ddot_C[:,i]\n",
        "  f = m[i]*d # Force on each joint f_i_O[:,i]\n",
        "  f_i_0.append(f)\n",
        "  M = I_i_0[j]*b + np.cross(x,(I_i_0[j]*x),axis=0) # Moment on each joint\n",
        "  n_i_0.append(M)\n",
        "  j = j + 1\n",
        "  a_i_0 = R1[i]*a_i_i[:,i]\n",
        "  r_i = a_i_0 - z\n",
        "  r_i_0.append(r_i)"
      ]
    },
    {
      "cell_type": "code",
      "execution_count": 44,
      "metadata": {
        "id": "aSoyFB5bCD6B"
      },
      "outputs": [],
      "source": []
    },
    {
      "cell_type": "code",
      "execution_count": 45,
      "metadata": {
        "id": "lTydMoLyKEKu"
      },
      "outputs": [],
      "source": [
        "# Backward Recursion\n",
        "f_k_0 = [Matrix([[a],[a],[a]])]\n",
        "n_k_0 = [Matrix([[a],[a],[a]])]\n",
        "tau = []\n",
        "for i in range(5):\n",
        "  f_k = Matrix([[a],[a],[a]])\n",
        "  n_k = Matrix([[a],[a],[a]])\n",
        "  f_k_0.append(f_k)\n",
        "  n_k_0.append(n_k)\n",
        "f_k_0 = f_k_0[5]\n",
        "n_k_0 = n_k_0[5]\n",
        "for i in range(4,-1,-1):\n",
        "  f_k_0 =  f_k_0 - m[i]*G + f_i_0[i]\n",
        "  n_k_0 = n_k_0 + n_i_0[i] + np.cross(z1[i],f_k_0,axis=0) + np.cross(r_i_0[i],f_k_0,axis=0)\n",
        "  tau1 = (Z_n_0[i].transpose())*n_k_0\n",
        "  tau.append(tau1)"
      ]
    },
    {
      "cell_type": "code",
      "execution_count": 46,
      "metadata": {
        "id": "9ntq36pCbfeT"
      },
      "outputs": [],
      "source": [
        "# M,C,H matrix formulation\n",
        "tau1 = tau[0]\n",
        "tau2 = tau[1]\n",
        "tau3 = tau[2]\n",
        "tau4 = tau[3]\n",
        "tau5 = tau[4]\n",
        "\n",
        "tau1 = tau1.subs(m[0],1).subs(m[1],1).subs(m[2],1).subs(m[3],1).subs(m[4],1).subs(l[0],1).subs(l[1],1).subs(l[2],1).subs(l[3],1).subs(l[4],1)\n",
        "tau2 = tau2.subs(m[0],1).subs(m[1],1).subs(m[2],1).subs(m[3],1).subs(m[4],1).subs(l[0],1).subs(l[1],1).subs(l[2],1).subs(l[3],1).subs(l[4],1)\n",
        "tau3 = tau3.subs(m[0],1).subs(m[1],1).subs(m[2],1).subs(m[3],1).subs(m[4],1).subs(l[0],1).subs(l[1],1).subs(l[2],1).subs(l[3],1).subs(l[4],1)\n",
        "tau4 = tau4.subs(m[0],1).subs(m[1],1).subs(m[2],1).subs(m[3],1).subs(m[4],1).subs(l[0],1).subs(l[1],1).subs(l[2],1).subs(l[3],1).subs(l[4],1)\n",
        "tau5 = tau5.subs(m[0],1).subs(m[1],1).subs(m[2],1).subs(m[3],1).subs(m[4],1).subs(l[0],1).subs(l[1],1).subs(l[2],1).subs(l[3],1).subs(l[4],1)\n",
        "\n",
        "C1,C2,C3,C4,C5 = symbols('C1 C2 C3 C4 C5')\n",
        "\n",
        "C1 = tau1.subs(theta_ddot[0],0).subs(theta_ddot[1],0).subs(theta_ddot[2],0).subs(theta_ddot[3],0).subs(theta_ddot[4],0).subs(g,0)\n",
        "C2 = tau2.subs(theta_ddot[0],0).subs(theta_ddot[1],0).subs(theta_ddot[2],0).subs(theta_ddot[3],0).subs(theta_ddot[4],0).subs(g,0)\n",
        "C3 = tau3.subs(theta_ddot[0],0).subs(theta_ddot[1],0).subs(theta_ddot[2],0).subs(theta_ddot[3],0).subs(theta_ddot[4],0).subs(g,0)\n",
        "C4 = tau4.subs(theta_ddot[0],0).subs(theta_ddot[1],0).subs(theta_ddot[2],0).subs(theta_ddot[3],0).subs(theta_ddot[4],0).subs(g,0)\n",
        "C5 = tau5.subs(theta_ddot[0],0).subs(theta_ddot[1],0).subs(theta_ddot[2],0).subs(theta_ddot[3],0).subs(theta_ddot[4],0).subs(g,0)\n",
        "\n",
        "C = Matrix([C1,C2,C3,C4,C5])\n",
        "\n",
        "tau1_copy = tau1\n",
        "tau2_copy = tau2 \n",
        "tau3_copy = tau3 \n",
        "tau4_copy = tau4 \n",
        "tau5_copy = tau5\n",
        "\n",
        "P1 = simplify(tau1_copy - C1)\n",
        "P2 = simplify(tau2_copy - C2)\n",
        "P3 = simplify(tau3_copy - C3)\n",
        "P4 = simplify(tau4_copy - C4)\n",
        "P5 = simplify(tau5_copy - C5)\n",
        "\n",
        "M1_1,M2_1,M3_1,M4_1,M5_1 = symbols('M1_1 M2_1 M3_1 M4_1 M5_1')\n",
        "M1_2,M2_2,M3_2,M4_2,M5_2 = symbols('M1_2 M2_2 M3_2 M4_2 M5_2')\n",
        "M1_3,M2_3,M3_3,M4_3,M5_3 = symbols('M1_3 M2_3 M3_3 M4_3 M5_3')\n",
        "M1_4,M2_4,M3_4,M4_4,M5_4 = symbols('M1_4 M2_4 M3_4 M4_4 M5_4')\n",
        "M1_5,M2_5,M3_5,M4_5,M5_5 = symbols('M1_5 M2_5 M3_5 M4_5 M5_5')\n",
        "\n",
        "M1_1 = P1.subs(theta_ddot[0],1).subs(theta_ddot[1],0).subs(theta_ddot[2],0).subs(theta_ddot[3],0).subs(theta_ddot[4],0).subs(g,0)\n",
        "M2_1 = P2.subs(theta_ddot[0],1).subs(theta_ddot[1],0).subs(theta_ddot[2],0).subs(theta_ddot[3],0).subs(theta_ddot[4],0).subs(g,0)\n",
        "M3_1 = P3.subs(theta_ddot[0],1).subs(theta_ddot[1],0).subs(theta_ddot[2],0).subs(theta_ddot[3],0).subs(theta_ddot[4],0).subs(g,0)\n",
        "M4_1 = P4.subs(theta_ddot[0],1).subs(theta_ddot[1],0).subs(theta_ddot[2],0).subs(theta_ddot[3],0).subs(theta_ddot[4],0).subs(g,0)\n",
        "M5_1 = P5.subs(theta_ddot[0],1).subs(theta_ddot[1],0).subs(theta_ddot[2],0).subs(theta_ddot[3],0).subs(theta_ddot[4],0).subs(g,0)\n",
        "\n",
        "\n",
        "M1_2 = P1.subs(theta_ddot[0],0).subs(theta_ddot[1],1).subs(theta_ddot[2],0).subs(theta_ddot[3],0).subs(theta_ddot[4],0).subs(g,0)\n",
        "M2_2 = P2.subs(theta_ddot[0],0).subs(theta_ddot[1],1).subs(theta_ddot[2],0).subs(theta_ddot[3],0).subs(theta_ddot[4],0).subs(g,0)\n",
        "M3_2 = P3.subs(theta_ddot[0],0).subs(theta_ddot[1],1).subs(theta_ddot[2],0).subs(theta_ddot[3],0).subs(theta_ddot[4],0).subs(g,0)\n",
        "M4_2 = P4.subs(theta_ddot[0],0).subs(theta_ddot[1],1).subs(theta_ddot[2],0).subs(theta_ddot[3],0).subs(theta_ddot[4],0).subs(g,0)\n",
        "M5_2 = P5.subs(theta_ddot[0],0).subs(theta_ddot[1],1).subs(theta_ddot[2],0).subs(theta_ddot[3],0).subs(theta_ddot[4],0).subs(g,0)\n",
        "\n",
        "\n",
        "M1_3 = P1.subs(theta_ddot[0],0).subs(theta_ddot[1],1).subs(theta_ddot[2],1).subs(theta_ddot[3],0).subs(theta_ddot[4],0).subs(g,0)\n",
        "M2_3 = P2.subs(theta_ddot[0],0).subs(theta_ddot[1],1).subs(theta_ddot[2],1).subs(theta_ddot[3],0).subs(theta_ddot[4],0).subs(g,0)\n",
        "M3_3 = P3.subs(theta_ddot[0],0).subs(theta_ddot[1],1).subs(theta_ddot[2],1).subs(theta_ddot[3],0).subs(theta_ddot[4],0).subs(g,0)\n",
        "M4_3 = P4.subs(theta_ddot[0],0).subs(theta_ddot[1],1).subs(theta_ddot[2],1).subs(theta_ddot[3],0).subs(theta_ddot[4],0).subs(g,0)\n",
        "M5_3 = P5.subs(theta_ddot[0],0).subs(theta_ddot[1],1).subs(theta_ddot[2],1).subs(theta_ddot[3],0).subs(theta_ddot[4],0).subs(g,0)\n",
        "\n",
        "\n",
        "M1_4 = P1.subs(theta_ddot[0],0).subs(theta_ddot[1],0).subs(theta_ddot[2],0).subs(theta_ddot[3],1).subs(theta_ddot[4],0).subs(g,0)\n",
        "M2_4 = P2.subs(theta_ddot[0],0).subs(theta_ddot[1],0).subs(theta_ddot[2],0).subs(theta_ddot[3],1).subs(theta_ddot[4],0).subs(g,0)\n",
        "M3_4 = P3.subs(theta_ddot[0],0).subs(theta_ddot[1],0).subs(theta_ddot[2],0).subs(theta_ddot[3],1).subs(theta_ddot[4],0).subs(g,0)\n",
        "M4_4 = P4.subs(theta_ddot[0],0).subs(theta_ddot[1],0).subs(theta_ddot[2],0).subs(theta_ddot[3],1).subs(theta_ddot[4],0).subs(g,0)\n",
        "M5_4 = P5.subs(theta_ddot[0],0).subs(theta_ddot[1],0).subs(theta_ddot[2],0).subs(theta_ddot[3],1).subs(theta_ddot[4],0).subs(g,0)\n",
        "\n",
        "\n",
        "M1_5 = P1.subs(theta_ddot[0],0).subs(theta_ddot[1],0).subs(theta_ddot[2],0).subs(theta_ddot[3],0).subs(theta_ddot[4],1).subs(g,0)\n",
        "M2_5 = P2.subs(theta_ddot[0],0).subs(theta_ddot[1],0).subs(theta_ddot[2],0).subs(theta_ddot[3],0).subs(theta_ddot[4],1).subs(g,0)\n",
        "M3_5 = P3.subs(theta_ddot[0],0).subs(theta_ddot[1],0).subs(theta_ddot[2],0).subs(theta_ddot[3],0).subs(theta_ddot[4],1).subs(g,0)\n",
        "M4_5 = P4.subs(theta_ddot[0],0).subs(theta_ddot[1],0).subs(theta_ddot[2],0).subs(theta_ddot[3],0).subs(theta_ddot[4],1).subs(g,0)\n",
        "M5_5 = P5.subs(theta_ddot[0],0).subs(theta_ddot[1],0).subs(theta_ddot[2],0).subs(theta_ddot[3],0).subs(theta_ddot[4],1).subs(g,0)\n",
        "\n",
        "M = Matrix([[M1_1,M1_2,M1_3,M1_4,M1_5],\n",
        "       [M2_1,M2_2,M2_3,M2_4,M2_5],\n",
        "       [M3_1,M3_2,M3_3,M3_4,M3_5],\n",
        "       [M4_1,M4_2,M4_3,M4_4,M4_5],\n",
        "       [M5_1,M5_2,M5_3,M5_4,M5_5]])\n",
        "\n",
        "H1,H2,H3,H4,H5 = symbols('H1 H2 H3 H4 H5')\n",
        "\n",
        "H1 = P1.subs(theta_ddot[0],0).subs(theta_ddot[1],0).subs(theta_ddot[2],0).subs(theta_ddot[3],0).subs(theta_ddot[4],0).subs(g,9.81)\n",
        "H2 = P2.subs(theta_ddot[0],0).subs(theta_ddot[1],0).subs(theta_ddot[2],0).subs(theta_ddot[3],0).subs(theta_ddot[4],0).subs(g,9.81)\n",
        "H3 = P3.subs(theta_ddot[0],0).subs(theta_ddot[1],0).subs(theta_ddot[2],0).subs(theta_ddot[3],0).subs(theta_ddot[4],0).subs(g,9.81)\n",
        "H4 = P4.subs(theta_ddot[0],0).subs(theta_ddot[1],0).subs(theta_ddot[2],0).subs(theta_ddot[3],0).subs(theta_ddot[4],0).subs(g,9.81)\n",
        "H5 = P5.subs(theta_ddot[0],0).subs(theta_ddot[1],0).subs(theta_ddot[2],0).subs(theta_ddot[3],0).subs(theta_ddot[4],0).subs(g,9.81)\n",
        "H = Matrix([H1,H2,H3,H4,H5])"
      ]
    },
    {
      "cell_type": "code",
      "execution_count": 46,
      "metadata": {
        "id": "xfNVcUfJOHRc"
      },
      "outputs": [],
      "source": []
    },
    {
      "cell_type": "code",
      "execution_count": 47,
      "metadata": {
        "id": "_QlubLKGC46k"
      },
      "outputs": [],
      "source": [
        "np.save('H', H)\n",
        "np.save('M', M)\n",
        "np.save('C',C)"
      ]
    },
    {
      "cell_type": "markdown",
      "metadata": {
        "id": "09ucU47rC4cc"
      },
      "source": []
    },
    {
      "cell_type": "code",
      "execution_count": null,
      "metadata": {
        "id": "XVvXfpGs54Bu"
      },
      "outputs": [],
      "source": [
        "\n",
        "# Kinematic motion of lifting from ground with Forward Dynamics\n",
        "\n",
        "weight = 85\n",
        "payload = 5\n",
        "g = 9.8\n",
        "\n",
        "ts = 5.0\n",
        "dt = 0.025\n",
        "t = np.linspace(0 ,5 , num=201)\n",
        "\n",
        "# Input Angle\n",
        "\n",
        "th = []\n",
        "for i in range(0,len(t)):\n",
        "  p = []\n",
        "  th1 = np.deg2rad(90) - (np.pi/6)*(1-cos(2*np.pi*t[i]/ts))\n",
        "  th2 = (np.pi/3)*(1-cos(2*np.pi*t[i]/ts))\n",
        "  th3 = -(np.pi/3)*(1-cos(2*np.pi*t[i]/ts)) + 0\n",
        "  th4 = -np.deg2rad(180) + (np.pi/6)*(1-cos(2*np.pi*t[i]/ts)) + 0\n",
        "  th5 = (np.pi/3)*1\n",
        "  p.append(th1)\n",
        "  p.append(th2)\n",
        "  p.append(th3)\n",
        "  p.append(th4)\n",
        "  p.append(th5)\n",
        "  th.append(p)\n",
        "# Input Velocity\n",
        "print(type(th))\n",
        "th_dot = []\n",
        "for i in range(0,len(t)):\n",
        "  q = []\n",
        "  th1_dot = (np.pi**2*sin((2*np.pi*t[i])/ts))/(3*ts)\n",
        "  th2_dot = (2*np.pi**2*sin((2*np.pi*t[i])/ts))/(3*ts)\n",
        "  th3_dot = (2*np.pi**2*sin((2*np.pi*t[i])/ts))/(3*ts)\n",
        "  th4_dot = (np.pi**2*sin((2*np.pi*t[i])/ts))/(3*ts)\n",
        "  th5_dot = 0.0\n",
        "  q.append(th1_dot)\n",
        "  q.append(th2_dot)\n",
        "  q.append(th3_dot)\n",
        "  q.append(th4_dot)\n",
        "  q.append(th5_dot)\n",
        "  th_dot.append(q)\n",
        "\n",
        "# Input Acceleration\n",
        "th_ddot = []\n",
        "for i in range(0,len(t)):\n",
        "  r = []\n",
        "  th1_ddot = (2*np.pi**3*cos((2*np.pi*t[i])/ts))/(3*ts**2)\n",
        "  th2_ddot = (4*np.pi**3*cos((2*np.pi*t[i])/ts))/(3*ts**2)\n",
        "  th3_ddot = (4*np.pi**3*cos((2*np.pi*t[i])/ts))/(3*ts**2)\n",
        "  th4_ddot = (2*np.pi**3*cos((2*np.pi*t[i])/ts))/(3*ts**2)\n",
        "  th5_ddot = 0\n",
        "  r.append(th1_ddot)\n",
        "  r.append(th2_ddot)\n",
        "  r.append(th3_ddot)\n",
        "  r.append(th4_ddot)\n",
        "  r.append(th5_ddot)\n",
        "  th_ddot.append(r)\n",
        "O2 = O2.subs(l[0],0.5).subs(l[1],0.5).subs(l[2],0.7).subs(l[3],0.4).subs(l[4],0.4)\n",
        "T_n = T1[-1].subs(l[0],0.5).subs(l[1],0.5).subs(l[2],0.7).subs(l[3],0.4).subs(l[4],0.4)\n",
        "T_3 = T1[2].subs(l[0],0.5).subs(l[1],0.5).subs(l[2],0.7).subs(l[3],0.4).subs(l[4],0.4)\n",
        "O_E = Matrix([[0.4],[0],[0],[1]])\n",
        "O_E_homo = T_n*O_E\n",
        "Head_homo = T_3*Matrix([[0.9],[0],[0],[1]])\n",
        "O_1 = []\n",
        "O_2 = []\n",
        "O_3 = []\n",
        "O_4 = []\n",
        "O_5 = []\n",
        "Head = []\n",
        "O_E = []\n",
        "tau1 = []\n",
        "plt.ion()\n",
        "fig = plt.figure()\n",
        "for i in range(0,len(t)):\n",
        "  O_new = O2.subs(theta[0],th[i][0]).subs(theta[1],th[i][1]).subs(theta[2],th[i][2]).subs(theta[3],th[i][3]).subs(theta[4],th[i][4])\n",
        "  O_new = np.reshape(O_new,(5,3))\n",
        "  o_1 = O_new[0]\n",
        "  o_2 = O_new[1]\n",
        "  o_3 = O_new[2]\n",
        "  o_4 = O_new[3]\n",
        "  o_5 = O_new[4]\n",
        "  O_1.append(o_1)\n",
        "  O_2.append(o_2)\n",
        "  O_3.append(o_3)\n",
        "  O_4.append(o_4)\n",
        "  O_5.append(o_5)\n",
        "  O_E_temp = O_E_homo[:3,:1].subs(theta[0],th[i][0]).subs(theta[1],th[i][1]).subs(theta[2],th[i][2]).subs(theta[3],th[i][3]).subs(theta[4],th[i][4])\n",
        "  O_E.append(O_E_temp)\n",
        "  Head_temp = Head_homo[:3,:1].subs(theta[0],th[i][0]).subs(theta[1],th[i][1]).subs(theta[2],th[i][2]).subs(theta[3],th[i][3]).subs(theta[4],th[i][4])\n",
        "  Head.append(Head_temp)\n",
        "  C_new = C.subs(theta[0],th[i][0]).subs(theta[1],th[i][1]).subs(theta[2],th[i][2]).subs(theta[3],th[i][3]).subs(theta[4],th[i][4]).subs(theta_dot[0],th_dot[i][0]).subs(theta_dot[1],th_dot[i][1]).subs(theta_dot[2],th_dot[i][2]).subs(theta_dot[3],th_dot[i][3]).subs(theta_dot[4],th_dot[i][4])\n",
        "  H_new = H.subs(theta[0],th[i][0]).subs(theta[1],th[i][1]).subs(theta[2],th[i][2]).subs(theta[3],th[i][3]).subs(theta[4],th[i][4])\n",
        "  M_new = M.subs(theta[0],th[i][0]).subs(theta[1],th[i][1]).subs(theta[2],th[i][2]).subs(theta[3],th[i][3]).subs(theta[4],th[i][4])\n",
        "  tau = M_new*helper(th_ddot[i]) + C_new + H_new\n",
        "  tau1.append(tau)\n",
        "\n",
        "  # Link plot\n",
        "\n",
        "  plt.plot([O_1[i][0],O_2[i][0]],[O_1[i][1],O_2[i][1]] , 'k', linewidth=2)\n",
        "  plt.plot([O_2[i][0],O_3[i][0]],[O_2[i][1],O_3[i][1]] , 'k', linewidth=4)\n",
        "  plt.plot([O_3[i][0],O_4[i][0]],[O_3[i][1],O_4[i][1]] , 'k', linewidth=8)\n",
        "  plt.plot([O_4[i][0],Head[i][0]],[O_4[i][1],Head[i][1]],'k', linewidth=2)\n",
        "  plt.plot([O_4[i][0],O_5[i][0]],[O_4[i][1],O_5[i][1]] , 'k', linewidth=4)\n",
        "  plt.plot([O_5[i][0],O_E[i][0]],[O_5[i][1],O_E[i][1]] , 'k', linewidth=2)\n",
        "\n",
        "  # joint plot\n",
        "\n",
        "  plt.Circle(((O_1[i][0],O_1[i][1]), 0.01) , 'r', linewidth=6)\n",
        "  plt.Circle(((O_2[i][0],O_2[i][1]), 0.01) , 'r', linewidth=6)\n",
        "  plt.Circle(((O_3[i][0],O_3[i][1]), 0.01) , 'r', linewidth=6)\n",
        "  plt.Circle(((O_4[i][0],O_4[i][1]), 0.01) , 'r', linewidth=6)\n",
        "  plt.Circle(((O_5[i][0],O_5[i][1]), 0.01) , 'r', linewidth=6)\n",
        "  plt.Circle(((O_E[i][0],O_E[i][1]), 0.01) , 'r', linewidth=6)\n",
        "  plt.Circle(((Head[i][0],Head[i][1]), 0.05) , 'r', linewidth=8)\n",
        "\n",
        "  plt.xlabel('X-axis')\n",
        "  plt.ylabel('Y-axis')\n",
        "  plt.axis([-1.5, 1.5, 0, 3])\n",
        "  plt.show()\n"
      ]
    },
    {
      "cell_type": "code",
      "source": [],
      "metadata": {
        "id": "zorzFUYoX1ih"
      },
      "execution_count": null,
      "outputs": []
    }
  ],
  "metadata": {
    "colab": {
      "provenance": []
    },
    "kernelspec": {
      "display_name": "Python 3",
      "name": "python3"
    },
    "language_info": {
      "name": "python"
    }
  },
  "nbformat": 4,
  "nbformat_minor": 0
}